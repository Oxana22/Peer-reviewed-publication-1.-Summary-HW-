{
  "nbformat": 4,
  "nbformat_minor": 0,
  "metadata": {
    "colab": {
      "provenance": [],
      "authorship_tag": "ABX9TyPDGaRm7IbXSWEDo3lUCNcy",
      "include_colab_link": true
    },
    "kernelspec": {
      "name": "python3",
      "display_name": "Python 3"
    },
    "language_info": {
      "name": "python"
    }
  },
  "cells": [
    {
      "cell_type": "markdown",
      "metadata": {
        "id": "view-in-github",
        "colab_type": "text"
      },
      "source": [
        "<a href=\"https://colab.research.google.com/github/Oxana22/Peer-reviewed-publication-1.-Summary-HW-/blob/main/HW2_OxanaCauni.ipynb\" target=\"_parent\"><img src=\"https://colab.research.google.com/assets/colab-badge.svg\" alt=\"Open In Colab\"/></a>"
      ]
    },
    {
      "cell_type": "code",
      "execution_count": 4,
      "metadata": {
        "colab": {
          "base_uri": "https://localhost:8080/"
        },
        "id": "rjKt_03j0l-0",
        "outputId": "e16a6271-3454-49d7-b9b2-e2af595095c5"
      },
      "outputs": [
        {
          "output_type": "stream",
          "name": "stdout",
          "text": [
            "Determinant of A1: -10.000000000000002\n",
            "Inverse of A1: [[-0.1  0.3]\n",
            " [ 0.4 -0.2]]\n",
            "Solution for Task 1: [1.3 0.8]\n",
            "Determinant of A3: 16240.000000000005\n",
            "Inverse of A3: [[ 0.05221675 -0.00591133  0.00073892]\n",
            " [-0.01477833  0.03940887 -0.00492611]\n",
            " [-0.00098522 -0.01403941  0.03300493]]\n",
            "Solution for Task 3 (Cost per hour): [36.89655172 20.68965517  6.37931034]\n"
          ]
        }
      ],
      "source": [
        "import numpy as np\n",
        "\n",
        "A1 = np.array([[2, 3], [4, 1]])\n",
        "B1 = np.array([5, 6])\n",
        "\n",
        "det_A1 = np.linalg.det(A1)\n",
        "print (\"Determinant of A1:\", det_A1)\n",
        "\n",
        "A1_inv = np.linalg.inv(A1)\n",
        "print(\"Inverse of A1:\", A1_inv)\n",
        "\n",
        "X1 = np.dot(A1_inv, B1)\n",
        "print(\"Solution for Task 1:\", X1)\n",
        "\n",
        "A3 = np.array([\n",
        "    [20, 3, 0],\n",
        "    [8, 28, 4],\n",
        "    [4, 12, 32]\n",
        "])\n",
        "B3 = np.array([800, 900, 600])\n",
        "\n",
        "det_A3 = np.linalg.det(A3)\n",
        "print(\"Determinant of A3:\", det_A3)\n",
        "\n",
        "A3_inv = np.linalg.inv(A3)\n",
        "print(\"Inverse of A3:\", A3_inv)\n",
        "\n",
        "X3 = np.dot(A3_inv, B3)\n",
        "print(\"Solution for Task 3 (Cost per hour):\", X3)\n",
        "\n"
      ]
    }
  ]
}