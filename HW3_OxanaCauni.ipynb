{
  "nbformat": 4,
  "nbformat_minor": 0,
  "metadata": {
    "colab": {
      "provenance": [],
      "authorship_tag": "ABX9TyOio6KEvwpaFm8cSl7wBb7N",
      "include_colab_link": true
    },
    "kernelspec": {
      "name": "python3",
      "display_name": "Python 3"
    },
    "language_info": {
      "name": "python"
    }
  },
  "cells": [
    {
      "cell_type": "markdown",
      "metadata": {
        "id": "view-in-github",
        "colab_type": "text"
      },
      "source": [
        "<a href=\"https://colab.research.google.com/github/Oxana22/Peer-reviewed-publication-1.-Summary-HW-/blob/main/HW3_OxanaCauni.ipynb\" target=\"_parent\"><img src=\"https://colab.research.google.com/assets/colab-badge.svg\" alt=\"Open In Colab\"/></a>"
      ]
    },
    {
      "cell_type": "code",
      "execution_count": null,
      "metadata": {
        "id": "ugEh0Amg5fM5"
      },
      "outputs": [],
      "source": [
        "Task 1\n",
        "\n",
        "\n",
        "import numpy as np\n",
        "import matplotlib.pyplot as plt\n",
        "\n",
        "\n",
        "v1 = np.array([3, 2])\n",
        "v2 = np.array([0, -4])\n",
        "\n",
        "\n",
        "speed_after = np.linalg.norm(v2)\n",
        "print(\"Speed after hitting the cushion:\", speed_after)\n",
        "\n",
        "\n",
        "plt.figure()\n",
        "plt.quiver(0, 0, v1[0], v1[1], angles='xy', scale_units='xy', scale=1, color='r', label='Initial Speed (3,2)')\n",
        "plt.quiver(0, 0, v2[0], v2[1], angles='xy', scale_units='xy', scale=1, color='b', label='Final Speed (0,-4)')\n",
        "plt.xlim(-5, 5)\n",
        "plt.ylim(-5, 5)\n",
        "plt.axhline(0, color='black',linewidth=0.5)\n",
        "plt.axvline(0, color='black',linewidth=0.5)\n",
        "plt.grid(color = 'gray', linestyle = '--', linewidth = 0.5)\n",
        "plt.legend()\n",
        "plt.show()\n",
        "\n",
        "\n",
        "dot_product = np.dot(v1, v2)\n",
        "magnitude_v1 = np.linalg.norm(v1)\n",
        "magnitude_v2 = np.linalg.norm(v2)\n",
        "\n",
        "cos_angle = dot_product / (magnitude_v1 * magnitude_v2)\n",
        "angle = np.arccos(cos_angle)\n",
        "angle_degrees = np.degrees(angle)\n",
        "print(\"Angle of the hit:\", angle_degrees, \"degrees\")\n",
        "\n",
        "\n",
        "Task 2\n",
        "\n",
        "u1 = np.array([0, 5])\n",
        "v1 = np.array([1, 2])\n",
        "\n",
        "u2 = v1 - u1\n",
        "print(\"Speed vector of the second ball:\", u2)\n",
        "\n",
        "\n",
        "Task 3\n",
        "\n",
        "\n",
        "a = np.array([1, 5, 2, 6, 7])\n",
        "b = np.array([0, -1, 0, 0, -1])\n",
        "growth_rate = 0.2\n",
        "\n",
        "\n",
        "da = a * growth_rate\n",
        "print(\"Growth vector:\", da)\n",
        "\n",
        "\n",
        "years = 0\n",
        "change = b.copy()\n",
        "while np.any(change < 0):\n",
        "    change += da\n",
        "    years += 1\n",
        "    print(f\"Year {years}: {change}\")\n",
        "\n",
        "print(\"Years to overcome force majeure:\", years)"
      ]
    }
  ]
}