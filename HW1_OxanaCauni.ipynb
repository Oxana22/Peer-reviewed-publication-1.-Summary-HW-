{
  "nbformat": 4,
  "nbformat_minor": 0,
  "metadata": {
    "colab": {
      "provenance": [],
      "authorship_tag": "ABX9TyNSrp9zqku5J12dzxRjv7vx",
      "include_colab_link": true
    },
    "kernelspec": {
      "name": "python3",
      "display_name": "Python 3"
    },
    "language_info": {
      "name": "python"
    }
  },
  "cells": [
    {
      "cell_type": "markdown",
      "metadata": {
        "id": "view-in-github",
        "colab_type": "text"
      },
      "source": [
        "<a href=\"https://colab.research.google.com/github/Oxana22/Peer-reviewed-publication-1.-Summary-HW-/blob/main/HW1_OxanaCauni.ipynb\" target=\"_parent\"><img src=\"https://colab.research.google.com/assets/colab-badge.svg\" alt=\"Open In Colab\"/></a>"
      ]
    },
    {
      "cell_type": "code",
      "source": [
        "import numpy as np\n"
      ],
      "metadata": {
        "id": "1N2_YtKxINzq"
      },
      "execution_count": 5,
      "outputs": []
    },
    {
      "cell_type": "code",
      "execution_count": 12,
      "metadata": {
        "colab": {
          "base_uri": "https://localhost:8080/"
        },
        "id": "jBvt-UYWGd5U",
        "outputId": "cbdc1a56-6aa5-405c-a65d-cf8169cb195e"
      },
      "outputs": [
        {
          "output_type": "stream",
          "name": "stdout",
          "text": [
            "Current Happiness Indicator: 66\n",
            "Life Efficiency Vecor C: [0.14       0.28571429 0.17948718 0.5        0.5        0.36363636\n",
            " 0.83333333 0.5625    ]\n",
            "Forecasted Satisfaction Vector E: [1.4        2.57142857 1.25641026 4.         3.5        3.27272727\n",
            " 8.33333333 4.5       ]\n",
            "Forecasted Happiness Indicator: 28.833899433899436\n"
          ]
        }
      ],
      "source": [
        "A = np.array([7, 10, 7, 8, 7, 8, 10, 9])\n",
        "happiness_indicator_current  = np.sum(A)\n",
        "print(\"Current Happiness Indicator:\", happiness_indicator_current )\n",
        "\n",
        "B = np.array([50, 35, 39, 16, 14, 22, 12, 16])\n",
        "\n",
        "C = A / B\n",
        "print(\"Life Efficiency Vecor C:\", C)\n",
        "\n",
        "D = np.array([10, 9, 7, 8, 7, 9, 10, 8])\n",
        "\n",
        "E = D * C\n",
        "print(\"Forecasted Satisfaction Vector E:\", E)\n",
        "\n",
        "happiness_indicator_forecasted = np.sum(E)\n",
        "print(\"Forecasted Happiness Indicator:\", happiness_indicator_forecasted)\n",
        "\n",
        "\n",
        "\n",
        "\n",
        "\n",
        "\n",
        "\n",
        "\n"
      ]
    },
    {
      "cell_type": "code",
      "source": [],
      "metadata": {
        "id": "zMDUu5XbaZ_P"
      },
      "execution_count": null,
      "outputs": []
    }
  ]
}